{
 "cells": [
  {
   "cell_type": "markdown",
   "metadata": {},
   "source": [
    "# Introduction to Numpy, Scipy, and Matplotlib"
   ]
  },
  {
   "cell_type": "markdown",
   "metadata": {},
   "source": [
    "Some text about importance of each one of the libraries"
   ]
  },
  {
   "cell_type": "markdown",
   "metadata": {},
   "source": [
    "---"
   ]
  },
  {
   "cell_type": "markdown",
   "metadata": {},
   "source": [
    "## Numpy"
   ]
  },
  {
   "cell_type": "markdown",
   "metadata": {},
   "source": [
    "### References\n",
    "\n",
    "- https://www.datacamp.com/community/tutorials/python-numpy-tutorial#visualize\n",
    "- the [cheetsheet](https://s3.amazonaws.com/assets.datacamp.com/blog_assets/Numpy_Python_Cheat_Sheet.pdf)"
   ]
  },
  {
   "cell_type": "markdown",
   "metadata": {},
   "source": [
    "We'll start by creating Numpy array \n",
    "- `np.array(list)` <br>\n",
    "- zeros\n",
    "- ones\n",
    "- arange\n",
    "- random.random\n",
    "- empty\n",
    "- full\n",
    "- linspace\n",
    "- eye\n",
    "- identity\n",
    "\n",
    "Loading data from files with numpy:\n",
    "- loadtxt()\n",
    "- genfromtxt()\n",
    "\n",
    "\n",
    "numpy arraye attributes:\n",
    "- data\n",
    "- shape\n",
    "- dtype\n",
    "- strides\n",
    "- ndim\n",
    "- size\n",
    "- flags\n",
    "- itemsize\n",
    "- nbytes\n",
    "\n",
    "Here is a summary of the methods related to Numpy arrays I want to cover:\n",
    "- add()\n",
    "- subtract()\n",
    "- multiply()\n",
    "- divide()\n",
    "- remainder()\n",
    "- exp()\n",
    "- sqrt()\n",
    "- sin()\n",
    "- cos()\n",
    "- log()\n",
    "- dot()\n",
    "- cross() <br><br>\n",
    "- a.sum()\n",
    "- a.min()\n",
    "- a.max()\n",
    "- a.cumsum()\n",
    "- a.mean()\n",
    "- a.median()\n",
    "- a.corrcoef()\n",
    "- std() <br><br>\n",
    "- array_equal()\n",
    "- logical_or()\n",
    "- logical_not()\n",
    "- logical_and() <br><br>\n",
    "- transpose()\n",
    "- reshape()\n",
    "- resize()\n",
    "- newaxis()\n",
    "- ravel() <br><br>\n",
    "- append()\n",
    "- concatenate()\n",
    "- vstack()\n",
    "- r_[ ]\n",
    "- hstack()\n",
    "- column_stack()\n",
    "- c_[ ]\n",
    "- hsplit()\n",
    "- vsplit()\n",
    "\n",
    "saving numpy arrays:\n",
    "- save\n",
    "- savez()\n",
    "- savez_compressed()"
   ]
  },
  {
   "cell_type": "markdown",
   "metadata": {},
   "source": [
    "---\n",
    "## Teaching style\n",
    "\n",
    "- leave some of the above methods for students to discover"
   ]
  },
  {
   "cell_type": "code",
   "execution_count": null,
   "metadata": {},
   "outputs": [],
   "source": []
  },
  {
   "cell_type": "markdown",
   "metadata": {},
   "source": [
    "---"
   ]
  },
  {
   "cell_type": "markdown",
   "metadata": {},
   "source": [
    "## MatplotLib"
   ]
  },
  {
   "cell_type": "markdown",
   "metadata": {},
   "source": [
    "### References:\n",
    "- https://www.datacamp.com/courses/introduction-to-data-visualization-with-python (first two blocks)\n",
    "- https://matplotlib.org/gallery.html\n",
    "- https://github.com/matplotlib/AnatomyOfMatplotlib\n",
    "- https://github.com/jbmouret/matplotlib_for_papers\n",
    "- https://jakevdp.github.io/blog/2013/07/10/XKCD-plots-in-matplotlib/\n",
    "- https://jakevdp.github.io/blog/2012/10/07/xkcd-style-plots-in-matplotlib/"
   ]
  },
  {
   "cell_type": "markdown",
   "metadata": {},
   "source": [
    "- Different kinds of figures\n",
    "    - line plots\n",
    "    - scatter plots\n",
    "    - lines\n",
    "    - histogram\n",
    "    - heatmap\n",
    "    - 3D (using a 3d Numpy array)\n",
    "    - multiple plots on the same axis\n",
    "    - adding legend\n",
    "- Csutomizing the figures\n",
    "    - changing color (including defining your own color using rgb values)\n",
    "    - changing line style\n",
    "    - changing marker\n",
    "    - changing the background\n",
    "- The anatomy of matplotlib (figures and axes)\n",
    "    - subplots\n",
    "    - `\n",
    "- Extra (for fun)\n",
    "    - xkcd"
   ]
  },
  {
   "cell_type": "code",
   "execution_count": null,
   "metadata": {},
   "outputs": [],
   "source": []
  }
 ],
 "metadata": {
  "kernelspec": {
   "display_name": "Python 3",
   "language": "python",
   "name": "python3"
  },
  "language_info": {
   "codemirror_mode": {
    "name": "ipython",
    "version": 3
   },
   "file_extension": ".py",
   "mimetype": "text/x-python",
   "name": "python",
   "nbconvert_exporter": "python",
   "pygments_lexer": "ipython3",
   "version": "3.7.0"
  }
 },
 "nbformat": 4,
 "nbformat_minor": 2
}
