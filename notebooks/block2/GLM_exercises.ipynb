{
 "cells": [
  {
   "cell_type": "markdown",
   "metadata": {},
   "source": [
    "# Generalized linear models\n",
    "## Marcel Nonnenmacher, Jan-Mathis Lückmann, Pedro Goncalves, Jakob Macke"
   ]
  },
  {
   "cell_type": "markdown",
   "metadata": {},
   "source": [
    "> One of the central problems in systems neuroscience is that of characterizing the functional relationship between sensory stimuli and neural spike responses. Investigators call this the neural coding problem, because the spike trains of neurons can be considered a code by which the brain represents information about the state of the external world. One approach to understanding this code is to build mathematical models of the mapping between stimuli and spike responses; the code can then be interpreted by using the model to predict the neural response to a stimulus, or to decode the stimulus that gave rise to a particular response. [(Pillow, 2007)](http://pillowlab.princeton.edu/pubs/Pillow_BBchap07.pdf)\n",
    "\n",
    "Here, we will build probabilistic models for the response of a single neuron, starting from a simple model, that we will then extend. Conditional on a stimulus $x$ and model parameters $\\theta$ we will model the probability of a neural reponse $y$, i.e., $p(y|x, \\theta)$. Our central goal will be to find model parameters $\\theta$ such that the $p(y|x,\\theta)$ is a good fit to a dataset of stimulus-response pairs we observed, $\\mathcal{D} = \\{ (x_k,y_k) \\}_{k=1}^K$. \n",
    "\n",
    "\n",
    "### Goals of these exercises\n",
    "\n",
    "Central to inferring the best fitting parameters will be the likelihood function of the model. The simplest method goes by simply maximizing the likelihood using its gradient with respect to the model parameters (a technique called maximum likelihood estimation, MLE). You will learn to incorporate prior knowledge on the parameters, which leads to a method called maximum a posteriori (MAP). Finally, you will learn automatic differentiation (AD) which --- as the name suggests --- provides a automatic way to calcuate gradients of an objective function (here: the likelihood of parameters given the data). AD is a central ingredient to machine learning methods that are becoming increasingly popular.\n",
    "\n",
    "### Assumptions and notation\n",
    "\n",
    "Throughout this tutorial, we will adopt the following conventions:\n",
    "\n",
    "- $T$ is the number of time bins within one trial; $t$ always specifies a time bin;\n",
    "- $K$ is the number of trials in the experiment; $k$ always identifies a trial;\n",
    "- to make the notation lighter, we will sometimes drop the subscript $k$;\n",
    "- $\\hat{\\pi}(\\cdot)$ indicates an unnormalized probability, and $\\pi(\\cdot)$ the same probability normalize to integrate to 1;\n",
    "- $\\mathcal{L}(\\boldsymbol{\\theta}) = p(\\mathbf{y}\\, |\\, \\boldsymbol{\\theta})$ is the likelihood of the vector of parameters $\\boldsymbol{\\theta}$ for the (fixed) data $\\mathbf{y}$.\n",
    "\n",
    "For all models we consider, we assume that time is discretized in bins of size $\\Delta$. Given $z_t$, the instantaneous *input rate* of a neuron at time $\\Delta \\cdot t$, the spike counts $y_t$ are assumed to be independent, and distributed according to\n",
    "\n",
    "$\\begin{equation}\n",
    "    y_t \\sim \\mathrm{Poisson}\\big(\\eta(z_t)\\big)\n",
    "\\end{equation}$\n",
    "\n",
    "where  $\\eta(\\cdot)$ is corresponding canonical link function (here, we will always use $\\eta(\\cdot) = \\exp(\\cdot)$ for Poisson). We further assume that there is a linear dependence between $z_i$ and a set of external covariates $\\mathbf{x}_t$ at time $t$, i.e. $z_t = \\boldsymbol{\\theta}^\\top \\mathbf{x}$, and $\\boldsymbol{\\theta}$ is a vector of parameters which fully characterizes the neuron.\n",
    "\n",
    "Experiments are composed of $K$ trials, each subdivided into $T$ bins. \n",
    "\n",
    "Note, and in contrast to the lectures, we assume that the rate $\\mu_t$ is already 'per bin size', i.e. the expected number of spikes is $\\mu$ (and not $\\mu\\Delta$, as we had in lectures).\n",
    "\n",
    "For a Poisson neuron, the probability of producing $n$ spikes in an interval of size $\\Delta$ is given by \n",
    "\n",
    "$\\begin{align}\n",
    "P(y_t=n| \\mu)= \\frac{\\mu^n e^{-\\mu} }{n!}\n",
    "\\end{align}$\n",
    "\n",
    "\n",
    "## Exercise 1 (from lectures)\n",
    "\n",
    "Assume that you have spike counts $n_1$ to $n_K$ from $K$ trials, calculate the maximum likelihood estimate (MLE) of $\\mu$.\n",
    "\n",
    "\n",
    "## LNP model\n",
    "\n",
    "The stimulus $\\mathbf{u}_t$ is a white noise sequence, and the input rate is:\n",
    "\n",
    "$\\begin{equation}\n",
    "    z_t = \\mathbf{\\beta}^\\top \\mathbf{u}_{t-\\delta{}+1:t} + b = \\boldsymbol{\\theta}^\\top \\mathbf{x}\n",
    "\\end{equation}$,\n",
    "\n",
    "i.e. $z_t$ is the result of a linear filter $\\beta$ applied to the recent stimulus history $\\mathbf{u}_{t-\\delta{}+1:t}$, plus some offset $b$. This results in a vector of covariates at time $t$\n",
    "$\\mathbf{x}_{kt} = \\big[1, \\mathbf{u}_{kt-\\delta{}+1},\\ldots, \\mathbf{u}_{kt} \\big]^\\top$ for temporal filter length $\\delta \\in \\mathbb{N}$. Note that we can deal with any form of input in the second and third column of $\\mathbf{x}_{kt}$, not just white noise.\n",
    "\n",
    "The vector of parameters is $\\boldsymbol{\\theta} = \\left[b, \\beta^\\top \\right]^\\top$.\n",
    "\n",
    "\n",
    "\n",
    "### Simulating data from the model\n",
    "\n",
    "Next, we  will want to generate data using this model. Execute the following code cell, which will load some functions you will need throughout the session."
   ]
  },
  {
   "cell_type": "code",
   "execution_count": 1,
   "metadata": {},
   "outputs": [],
   "source": [
    "import numpy as np\n",
    "\n",
    "%run -i helpers.ipynb"
   ]
  },
  {
   "cell_type": "markdown",
   "metadata": {},
   "source": [
    "The following cell generates a matrix $\\mathbf{x}$ as specified above."
   ]
  },
  {
   "cell_type": "code",
   "execution_count": 6,
   "metadata": {},
   "outputs": [],
   "source": [
    "binsize = 0.001  # seconds\n",
    "T = 10000        # 1s trials\n",
    "K = 10  # number of trials\n",
    "nbins = T*K\n",
    "\n",
    "delta = 10       # length of temporal filter\n",
    "\n",
    "# stimulus\n",
    "U = np.random.normal(size=nbins)\n",
    "\n",
    "def toyDesignMatrix(U=U, T=T, K=K):    \n",
    "    nbins = T*K\n",
    "    X = np.zeros((delta+1, nbins))\n",
    "\n",
    "    X[0,:] = 1.       # bias\n",
    "    if delta > 0:\n",
    "        X[1, :] = U   # instantaneous input\n",
    "    for i in range(1,delta):\n",
    "        X[i+1, i+1:] = U[:-(i+1)]\n",
    "\n",
    "    return X\n",
    "\n",
    "X = toyDesignMatrix()"
   ]
  },
  {
   "cell_type": "markdown",
   "metadata": {},
   "source": [
    "Next, we define $\\mathbf{\\theta}$."
   ]
  },
  {
   "cell_type": "code",
   "execution_count": 7,
   "metadata": {},
   "outputs": [],
   "source": [
    "# ground-truth vector of parameters\n",
    "b = -6  # controls the offset and hence overall firing rate\n",
    "beta = np.cos( np.linspace(0, PI, delta))\n",
    "theta = np.hstack([b, beta])"
   ]
  },
  {
   "cell_type": "markdown",
   "metadata": {},
   "source": [
    "Given `X` and `theta`, we want to generate sample spike trains. In the following cell, we do so by just using "
   ]
  },
  {
   "cell_type": "code",
   "execution_count": 8,
   "metadata": {},
   "outputs": [],
   "source": [
    "ys = []\n",
    "for k in range(10):\n",
    "    y, fr = toyModel(X, theta)  # spike train, firing rate\n",
    "    ys.append(y)"
   ]
  },
  {
   "cell_type": "markdown",
   "metadata": {},
   "source": [
    "... plotting spike rasters and PSTH:"
   ]
  },
  {
   "cell_type": "code",
   "execution_count": 9,
   "metadata": {},
   "outputs": [
    {
     "data": {
      "image/png": "[encoded data removed]",
      "text/plain": [
       "<matplotlib.figure.Figure at 0x7efd1b944ac8>"
      ]
     },
     "metadata": {},
     "output_type": "display_data"
    }
   ],
   "source": [
    "plt.subplot(311)\n",
    "plt.plot(U[:200])\n",
    "plt.subplot(312)\n",
    "plt.imshow(np.asarray(ys)[:,:200], aspect=4, interpolation='None');\n",
    "plt.subplot(313)\n",
    "plt.plot(np.asarray(ys)[:, :200].mean(axis=0) / binsize);  # PSTH\n",
    "plt.plot(fr[:200], linewidth=2);  # firing rate"
   ]
  },
  {
   "cell_type": "markdown",
   "metadata": {},
   "source": [
    "\n",
    "### Optional: Try implementing the model yourself\n",
    "\n",
    "(Optional): Above, you used an implementation of the model we provided. You can try implementing the model as stated above yourself. To do so, complete the following function template"
   ]
  },
  {
   "cell_type": "code",
   "execution_count": 7,
   "metadata": {
    "collapsed": true
   },
   "outputs": [],
   "source": [
    "def toyModelExercise(X, theta):\n",
    "    # TODO: given stimulus and theta, return spikes and firing rate\n",
    "    return y, fr"
   ]
  },
  {
   "cell_type": "markdown",
   "metadata": {},
   "source": [
    "To check whether this model is correct, reproduce the PSTHs for both models and compare.\n"
   ]
  },
  {
   "cell_type": "markdown",
   "metadata": {},
   "source": [
    "\n",
    "### MLE inference\n",
    "\n",
    "#### Likelihood ####\n",
    "\n",
    "The likelihood defines a model that connects model parameters to the observed data: \n",
    "\n",
    "$\\begin{align}\n",
    "\\log \\mathcal{L}(\\boldsymbol{\\theta}) &= \\log p(\\mathbf{y} | \\boldsymbol{\\theta}) = \\log \\bigg[ \\prod_{k=1}^K \\prod_{t=1}^T p(y_{kt} | b, \\beta_1, \\beta_2) \\bigg] \\\\ &= \\sum_{k=1}^K \\sum_{t=1}^T \\log p(y_{tk} | b, \\beta_1, \\beta_2) = \\sum_{k=1}^K \\sum_{t=1}^T \\big[ z_{tk} y_{tk} - \\mathrm{e}^{z_{tk}} \\big], \n",
    "\\end{align}$\n",
    "\n",
    "where as above $z_{tk} = \\theta^\\top \\mathbf{x}_{tk} = b + \\beta^\\top \\mathbf{u}_{tk-\\delta{}+1:tk}$.\n",
    "\n",
    "Large $\\mathcal{L}$ for a given set of parameters $\\theta$ indicates that the data is likely under that parameter set. We can iteratively find more likely parameters, starting from some initial guess $\\theta_0$, by gradient ascent on $\\mathcal{L}$.\n",
    "\n",
    "For this model, the likelihood function has a unique maximum.\n",
    "\n",
    "\n",
    "#### Gradients ####\n",
    "\n",
    "**Exercise 1:** Using pen and paper, derive the gradient of the $\\log \\mathcal{L}$ with respect to $\\mathbf{\\theta}$.\n"
   ]
  },
  {
   "cell_type": "markdown",
   "metadata": {},
   "source": [
    "### MLE parameter inference\n",
    "\n",
    "We will now want to the use gradient you just derived to do parameter inference. For that, we will need to implement the functions `ll` and `dll` (the log-likelihood function and its derivative)."
   ]
  },
  {
   "cell_type": "markdown",
   "metadata": {},
   "source": [
    "**Exercise 2.1: ** Implement `ll` and `dll` in the cell below. "
   ]
  },
  {
   "cell_type": "code",
   "execution_count": 10,
   "metadata": {},
   "outputs": [],
   "source": [
    "# say, we got a single spike train\n",
    "y, fr = toyModel(X, theta)  # spike train, firing rate\n",
    "\n",
    "def ll(theta):\n",
    "    # TODO: implement log-likelihood function\n",
    "    return NotImplemented\n",
    "\n",
    "def dll(theta):\n",
    "    # TODO: implement derivative of log-likelihood function wrt theta\n",
    "    return NotImplemented"
   ]
  },
  {
   "cell_type": "markdown",
   "metadata": {},
   "source": [
    "**Exercise 2.2**: Assume the true parameters that we used to generate the data, $\\mathbf{\\theta}^*$, were unknown. We want to recover $\\mathbf{\\theta}^*$ starting from an initial guess $\\mathbf{\\theta}_0$. Fill the gaps in the code block below. How good do you recover $\\mathbf{\\theta}^*$? What happens if you change `step_size`?"
   ]
  },
  {
   "cell_type": "code",
   "execution_count": 11,
   "metadata": {},
   "outputs": [
    {
     "name": "stdout",
     "output_type": "stream",
     "text": [
      "theta_star : [-6.          1.          0.93969262  0.76604444  0.5         0.17364818\n",
      " -0.17364818 -0.5        -0.76604444 -0.93969262 -1.        ]\n",
      "theta_0 : [-0.86170838 -0.52051442  1.04976038 -0.58227439  1.09268153  0.7375664\n",
      " -0.94986715  0.0133238  -0.62592408 -1.86035052 -0.09161797]\n"
     ]
    },
    {
     "ename": "TypeError",
     "evalue": "unsupported operand type(s) for +: 'float' and 'ellipsis'",
     "output_type": "error",
     "traceback": [
      "\u001b[1;31m---------------------------------------------------------------------------\u001b[0m",
      "\u001b[1;31mTypeError\u001b[0m                                 Traceback (most recent call last)",
      "\u001b[1;32m<ipython-input-11-ed2b5c1312db>\u001b[0m in \u001b[0;36m<module>\u001b[1;34m()\u001b[0m\n\u001b[0;32m     16\u001b[0m     \u001b[1;32mreturn\u001b[0m \u001b[0mtheta_hat\u001b[0m\u001b[1;33m\u001b[0m\u001b[0m\n\u001b[0;32m     17\u001b[0m \u001b[1;33m\u001b[0m\u001b[0m\n\u001b[1;32m---> 18\u001b[1;33m \u001b[0mtheta_hat\u001b[0m \u001b[1;33m=\u001b[0m \u001b[0mgradientAscent\u001b[0m\u001b[1;33m(\u001b[0m\u001b[0mtheta_initial\u001b[0m\u001b[1;33m)\u001b[0m\u001b[1;33m\u001b[0m\u001b[0m\n\u001b[0m\u001b[0;32m     19\u001b[0m \u001b[0mprint\u001b[0m\u001b[1;33m(\u001b[0m\u001b[1;34m'theta_hat : {}'\u001b[0m\u001b[1;33m.\u001b[0m\u001b[0mformat\u001b[0m\u001b[1;33m(\u001b[0m\u001b[0mtheta_hat\u001b[0m\u001b[1;33m)\u001b[0m\u001b[1;33m)\u001b[0m\u001b[1;33m\u001b[0m\u001b[0m\n",
      "\u001b[1;32m<ipython-input-11-ed2b5c1312db>\u001b[0m in \u001b[0;36mgradientAscent\u001b[1;34m(theta_initial, step_size, num_iterations)\u001b[0m\n\u001b[0;32m     12\u001b[0m         \u001b[0mlog_likelihood\u001b[0m \u001b[1;33m=\u001b[0m \u001b[1;33m...\u001b[0m\u001b[1;33m\u001b[0m\u001b[0m\n\u001b[0;32m     13\u001b[0m         \u001b[0mgradient\u001b[0m \u001b[1;33m=\u001b[0m \u001b[1;33m...\u001b[0m\u001b[1;33m\u001b[0m\u001b[0m\n\u001b[1;32m---> 14\u001b[1;33m         \u001b[0mtheta_hat\u001b[0m \u001b[1;33m=\u001b[0m \u001b[0mtheta_hat\u001b[0m \u001b[1;33m+\u001b[0m \u001b[1;33m...\u001b[0m\u001b[1;33m\u001b[0m\u001b[0m\n\u001b[0m\u001b[0;32m     15\u001b[0m \u001b[1;33m\u001b[0m\u001b[0m\n\u001b[0;32m     16\u001b[0m     \u001b[1;32mreturn\u001b[0m \u001b[0mtheta_hat\u001b[0m\u001b[1;33m\u001b[0m\u001b[0m\n",
      "\u001b[1;31mTypeError\u001b[0m: unsupported operand type(s) for +: 'float' and 'ellipsis'"
     ]
    }
   ],
   "source": [
    "theta_true = theta.copy()\n",
    "theta_initial = np.random.randn(len(theta))\n",
    "\n",
    "print('theta_star : {}'.format(theta_true))\n",
    "print('theta_0 : {}'.format(theta_initial))\n",
    "\n",
    "def gradientAscent(theta_initial, step_size=0.0001, num_iterations=1000):\n",
    "    theta_hat = theta_initial.copy()\n",
    "    \n",
    "    for i in range(0, num_iterations):\n",
    "        # TODO: fix the next lines\n",
    "        log_likelihood = ...\n",
    "        gradient = ... \n",
    "        theta_hat = theta_hat + ...\n",
    "\n",
    "    return theta_hat\n",
    "\n",
    "theta_hat = gradientAscent(theta_initial)\n",
    "print('theta_hat : {}'.format(theta_hat))"
   ]
  },
  {
   "cell_type": "markdown",
   "metadata": {},
   "source": [
    "## Extending the model\n",
    "\n",
    "Our simple model assumed independent firing in each time-bin that only depends on the stimulus. In reality, we know that the activity of neurons depends also on their recent firing history. \n",
    "\n",
    "The GLM frameworks allows to flexibly extend our model simply by adding additional covariates and corresponding parameters, i.e. by adding columns to design matrix $\\mathbf{X}$ and entries to parameter vector $\\theta$. \n",
    "\n",
    "Let us try introducing the recent spiking history $\\mathbf{y}_{kt-\\tau}, \\ldots, \\mathbf{y}_{kt-1}$ as additional covariates.\n",
    "\n",
    "The vector of covariates at time $t$ becomes\n",
    "$\\mathbf{x}_{kt} = \\big[1, \\mathbf{u}_{kt-\\delta+1 \\ : \\ tk}, \\mathbf{y}_{kt-\\tau \\ : \\ tk-1}\\big]^\\top$, \n",
    "\n",
    "and we extend the vector of parameters as $\\boldsymbol{\\theta} = \\left[b, \\mathbf{\\beta}^\\top, \\mathbf{\\psi}^\\top \\right]^\\top$, with history kernel $\\mathbf{\\psi} \\in \\mathbb{R}^\\tau$ and history kernel length $\\tau \\in \\mathbb{N}$.\n"
   ]
  },
  {
   "cell_type": "markdown",
   "metadata": {},
   "source": [
    "**Question:** What other covariates could help improve our model?"
   ]
  },
  {
   "cell_type": "markdown",
   "metadata": {},
   "source": [
    "### MLE Inference\n",
    "\n",
    "**Exercise 3.1:** Write a function that implements the new design matrix $\\mathbf{X}$ (now depends on data $\\mathbf{y}$). Note that we provide a function `createDataset()` to generate data from the extended model with given parameter vector $\\theta$."
   ]
  },
  {
   "cell_type": "code",
   "execution_count": null,
   "metadata": {
    "collapsed": true
   },
   "outputs": [],
   "source": [
    "tau = 5  # length of history kernel (in bins)\n",
    "\n",
    "psi = - 1.0 * np.arange(0, tau)[::-1]\n",
    "theta_true = np.hstack((theta, psi))\n",
    "y = createDataset(U, T, K, theta_true, delta)\n",
    "\n",
    "def extendedDesignMatrix(y): \n",
    "    # TODO: implement design matrix X with \n",
    "    # X[kt,:] = [1, w*cos(t), w*sin(t), y_{kt-tau:kt-1}]\n",
    "    return NotImplemented\n",
    "\n",
    "X = extendedDesignMatrix(y) # you might have to re-run the cell defining ll() and dll() \n",
    "                             # to update the used design matrix X and data y"
   ]
  },
  {
   "cell_type": "markdown",
   "metadata": {},
   "source": [
    "**Exercise 3.2:** Write down the gradients for the extended model. What changes from our earlier simpler model?"
   ]
  },
  {
   "cell_type": "code",
   "execution_count": null,
   "metadata": {
    "collapsed": true
   },
   "outputs": [],
   "source": []
  },
  {
   "cell_type": "markdown",
   "metadata": {},
   "source": [
    "## MAP inference\n",
    "\n",
    "The solution $\\hat{\\theta}$ obtained by gradient ascent on the log-likelihood depends on the data $\\mathcal{D} = \\{ (x_{tk}, y_{tk}) \\}_{(t,k)}$. In particular for very short traces and few trials, this data only weakly constrains the solution. \n",
    "We can often improve our obtained solutions by adding prior knowledge regarding what 'good' solutions should look like. In probabilistic modeling, this can be done by introducing prior distributions $p(\\theta)$ on the model parameters, which together with the likelihood $\\mathcal{L}$ define a posterior distribution over parameters given the data $p(\\theta | \\mathbf{y})$, \n",
    "\n",
    "$$ \\log p(\\theta | \\mathbf{y}) = \\log p(\\mathbf{y}|\\theta) + \\log p(\\theta) - \\log p(\\mathbf{y}) = \\mathcal{L}(\\theta) + \\log p(\\theta) + const.$$\n",
    "\n",
    "Maximum a-posterio (MAP) estimates parameters $\\theta$ by gradient ascent on the (log-)posterior. \n",
    "\n",
    "We will assume zero-mean Gaussian priors on $\\beta, \\psi$, i.e. \n",
    "\\begin{align}\n",
    "p(\\beta) &= \\mathcal{N}(0, \\Sigma_\\beta) \\\\\n",
    "p(\\psi) &= \\mathcal{N}(0, \\Sigma_\\psi).\n",
    "\\end{align}\n",
    "We will not assume an explicit prior on $b$, which effectively assumes $b$ to be distributed 'uniformly' over $\\mathbb{R}$.\n"
   ]
  },
  {
   "cell_type": "markdown",
   "metadata": {},
   "source": [
    "### Gradients\n",
    "\n",
    "Compared to maximum likelihood, MAP only requires adding the prior gradient:\n",
    "\n",
    "\\begin{align}\n",
    "\\frac{\\partial}{\\partial \\theta} p(\\theta|\\mathbf{y}) =  \\frac{\\partial}{\\partial \\theta} \\mathcal{L}(\\theta) + \\frac{\\partial}{\\partial \\theta}p(\\theta)\n",
    "\\end{align}\n"
   ]
  },
  {
   "cell_type": "markdown",
   "metadata": {},
   "source": [
    "### Exercises"
   ]
  },
  {
   "cell_type": "markdown",
   "metadata": {},
   "source": [
    "**Exercise 4: ** Derive the gradients for the prior. If you get stuck, or if you want to verify the solution, ask the tutors for help."
   ]
  },
  {
   "cell_type": "code",
   "execution_count": null,
   "metadata": {
    "collapsed": true
   },
   "outputs": [],
   "source": []
  },
  {
   "cell_type": "markdown",
   "metadata": {},
   "source": [
    "**Exercise 5:** Fill gaps in codeblock below."
   ]
  },
  {
   "cell_type": "code",
   "execution_count": null,
   "metadata": {
    "collapsed": true
   },
   "outputs": [],
   "source": [
    "## priors\n",
    "\n",
    "# select prior covariance for input weights\n",
    "Sig_beta = np.eye(delta)                     \n",
    "\n",
    "# select prior covariance for history kernel\n",
    "ir = np.atleast_2d(np.arange(tau, 0, -1))\n",
    "Sig_psi = np.exp(- np.abs(ir.T - ir)/5)  # assuming smoothness\n",
    "\n",
    "# convenience\n",
    "P_beta, P_psi = np.linalg.inv(Sig_beta), np.linalg.inv(Sig_psi)\n",
    "\n",
    "\n",
    "## functions and gradients\n",
    "\n",
    "def po(theta):\n",
    "    # TODO: implement log-posterior density function\n",
    "    return NotImplemented\n",
    "\n",
    "def dpo(theta):\n",
    "    # TODO: implement derivative of log-posterior density function wrt theta\n",
    "    return NotImplemented\n",
    "\n",
    "# Hint: it can be helpful to first derive the functions for the prior below: \n",
    "\n",
    "def pr(theta):\n",
    "    # TODO: implement log-prior density function\n",
    "    return NotImplemented\n",
    "\n",
    "def dpr(theta):\n",
    "    # TODO: implement derivative of log-prior density function wrt theta\n",
    "    return NotImplemented\n",
    "\n",
    "# leave as is\n",
    "def ll(theta):\n",
    "    z = np.dot(theta, X)\n",
    "    return np.sum( y * z - link(z) )\n",
    "\n",
    "# leave as is\n",
    "def dll(theta):\n",
    "    z = np.dot(theta, X)\n",
    "    r = y - link(z)\n",
    "    return np.dot(X, r)"
   ]
  },
  {
   "cell_type": "markdown",
   "metadata": {},
   "source": [
    "**Exercise 6:** Numerical gradient checking -- use the code below to numerically ensure your gradients are correct"
   ]
  },
  {
   "cell_type": "code",
   "execution_count": null,
   "metadata": {
    "collapsed": true
   },
   "outputs": [],
   "source": [
    "from scipy import optimize\n",
    "\n",
    "thrn = np.random.normal(size=theta_true.shape)\n",
    "print(optimize.check_grad(ll, dll, thrn))\n",
    "print(optimize.check_grad(pr, dpr, thrn))\n",
    "print(optimize.check_grad(po, dpo, thrn))"
   ]
  },
  {
   "cell_type": "markdown",
   "metadata": {},
   "source": [
    "**Exercise 7:** Do inference (WIP)"
   ]
  },
  {
   "cell_type": "code",
   "execution_count": null,
   "metadata": {
    "collapsed": true
   },
   "outputs": [],
   "source": [
    "data = createDataset(1000, 1, theta_true, omega)\n",
    "\n",
    "# TODO: implement gradient ascent"
   ]
  },
  {
   "cell_type": "markdown",
   "metadata": {},
   "source": [
    "## Automatic differentiation \n",
    "\n",
    "Instead of calculating the gradients w.r.t. the model parameters by hand, we can calculate them automatically. Our objective function consists of many elementary functions, each of which is differentiable. [Automatic differentiation (AD)](https://en.wikipedia.org/wiki/Automatic_differentiation) applies the chain rule to the expression graph of our objective to find the gradient. \n",
    "\n",
    "Here, we will use a Python library called `autograd` to find the gradient of our objective. AD is a central ingredient in libraries used for training artifical neural networks, including theano, TensorFlow and PyTorch.\n"
   ]
  },
  {
   "cell_type": "markdown",
   "metadata": {},
   "source": [
    "### Installation\n",
    "\n",
    "Install the [`autograd` package](https://github.com/HIPS/autograd) through your package manager. \n",
    "\n",
    "Depending on how things are set up on your machine, install `autograd` by `pip3 install autograd --user` or by `pip install autograd --user`. \n",
    "\n",
    "You might need to restart the notebook kernel in case the simple example which follows fails with an import error. If you restart the kernel, make sure to re-run the cells. You can do that by choosing `Kernel > Restart & Run All` from the menu."
   ]
  },
  {
   "cell_type": "markdown",
   "metadata": {},
   "source": [
    "### `autograd` by a simple example"
   ]
  },
  {
   "cell_type": "code",
   "execution_count": null,
   "metadata": {
    "collapsed": true
   },
   "outputs": [],
   "source": [
    "import autograd.numpy as np   # thinly-wrapped numpy\n",
    "from autograd import grad     # the only autograd function you may ever need\n",
    "\n",
    "def tanh(x):                  # Define a function\n",
    "    y = np.exp(-x)\n",
    "    return (1.0 - y) / (1.0 + y)\n",
    "\n",
    "grad_tanh = grad(tanh)        # Obtain its gradient function\n",
    "\n",
    "print('Gradient at x=1.0 (autograd) : {}'.format(grad_tanh(1.0)))\n",
    "\n",
    "print('Gradient at x=1.0 (finite diff): {}'.format((tanh(1.0001) - tanh(0.9999)) / 0.0002))"
   ]
  },
  {
   "cell_type": "code",
   "execution_count": 8,
   "metadata": {},
   "outputs": [
    {
     "ename": "SyntaxError",
     "evalue": "invalid syntax (<ipython-input-8-f42dcd6cf475>, line 1)",
     "output_type": "error",
     "traceback": [
      "\u001b[0;36m  File \u001b[0;32m\"<ipython-input-8-f42dcd6cf475>\"\u001b[0;36m, line \u001b[0;32m1\u001b[0m\n\u001b[0;31m    ipython nbconvert exercises.ipynb --to pdf\u001b[0m\n\u001b[0m                    ^\u001b[0m\n\u001b[0;31mSyntaxError\u001b[0m\u001b[0;31m:\u001b[0m invalid syntax\n"
     ]
    }
   ],
   "source": [
    "ipython nbconvert exercises.ipynb --to pdf"
   ]
  },
  {
   "cell_type": "markdown",
   "metadata": {},
   "source": [
    "### Exercises"
   ]
  },
  {
   "cell_type": "markdown",
   "metadata": {},
   "source": [
    "**Exercise 8**: Redo exercise 2 using `autograd`. To do so, go to the first code cell of the notebook. Instead of `import numpy as np` use `import autograd.numpy as np`. Restart the notebook kernel and run through the notebook from the beginning, till you get to the point where you implemented `dll`. Replace `dll` by a AD version that relies on the function `grad` (see simple example)."
   ]
  },
  {
   "cell_type": "markdown",
   "metadata": {},
   "source": [
    "**Exercise 9:** Similar to the previous exercise, adapt the extended version of the model to rely on `autograd` for differentiation. "
   ]
  },
  {
   "cell_type": "markdown",
   "metadata": {},
   "source": [
    "**Exercise 10 (open ended)** : Come up with your own extensions to one of the models. "
   ]
  }
 ],
 "metadata": {
  "anaconda-cloud": {},
  "kernelspec": {
   "display_name": "Python 3",
   "language": "python",
   "name": "python3"
  },
  "language_info": {
   "codemirror_mode": {
    "name": "ipython",
    "version": 3
   },
   "file_extension": ".py",
   "mimetype": "text/x-python",
   "name": "python",
   "nbconvert_exporter": "python",
   "pygments_lexer": "ipython3",
   "version": "3.5.1"
  }
 },
 "nbformat": 4,
 "nbformat_minor": 2
}
