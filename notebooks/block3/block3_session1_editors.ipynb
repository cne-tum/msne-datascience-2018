{
 "cells": [
  {
   "cell_type": "markdown",
   "metadata": {
    "slideshow": {
     "slide_type": "slide"
    }
   },
   "source": [
    "# Fundamentals CS block 3 Programming project\n",
    "\n",
    "## Agenda\n",
    "### 1) Administrative stuff \n",
    "### 2) Lecture 1 Editors\n",
    "### 3) Lecture 2 Virtual environments \n",
    "### 4) Choose projects and get started"
   ]
  },
  {
   "cell_type": "markdown",
   "metadata": {
    "slideshow": {
     "slide_type": "slide"
    }
   },
   "source": [
    "# Administration \n",
    "## Schedule \n",
    "### This week \n",
    "Thursday 3 - 0630pm \n",
    "\n",
    "Friday 8 - 10am or 5 - 7pm\n",
    "\n",
    "Saturday off / work from home.\n",
    "\n",
    "### Next week \n",
    "Mon, Tue or Wed? \n",
    "\n",
    "Thursday 2 - 6pm \n",
    "\n",
    "Friday 2 - 6pm\n",
    "\n"
   ]
  },
  {
   "cell_type": "markdown",
   "metadata": {
    "slideshow": {
     "slide_type": "slide"
    }
   },
   "source": [
    "# Choosing an editor"
   ]
  },
  {
   "cell_type": "markdown",
   "metadata": {
    "slideshow": {
     "slide_type": "slide"
    }
   },
   "source": [
    "# Pycharm \n",
    "https://www.jetbrains.com/pycharm/\n",
    "\n",
    "**Pro**: A full IDE, good for larger projects, all in one place: scripts, terminal, larger code files, version control, debugging, testing, plug-ins. \n",
    "\n",
    "**Contra**: heavy, sometimes slow, a lot to configure, costs some time to set up "
   ]
  },
  {
   "cell_type": "markdown",
   "metadata": {
    "slideshow": {
     "slide_type": "slide"
    }
   },
   "source": [
    "# Pycharm Demo"
   ]
  },
  {
   "cell_type": "markdown",
   "metadata": {
    "slideshow": {
     "slide_type": "slide"
    }
   },
   "source": [
    "# Atom \n",
    "https://atom.io/\n",
    "\n",
    "**Pro**: more lightweight, can be just a text editor. But can be configured into a full IDE with git and github integration, debugging, etc. \n",
    "\n",
    "**Contra**: Seems to be very neat, but needs time to be set up. \n",
    "\n",
    "There is an Atom IDE, that is, atom configured to be like an IDE: https://ide.atom.io/\n",
    "\n",
    "There is teletype: https://teletype.atom.io/\n",
    "\n",
    "Works with packages. you download and install atom and then install packages to add features to atom. "
   ]
  },
  {
   "cell_type": "markdown",
   "metadata": {
    "slideshow": {
     "slide_type": "slide"
    }
   },
   "source": [
    "# Emacs \n",
    "https://www.gnu.org/software/emacs/\n",
    "\n",
    "**Pro**: very lightweight basic text editor that you can configure like hell to be productive like hell. \n",
    "\n",
    "**Contra**: Less user friendly than atom or pycharm, the geek solution. "
   ]
  },
  {
   "cell_type": "markdown",
   "metadata": {
    "slideshow": {
     "slide_type": "slide"
    }
   },
   "source": [
    "# VI \n",
    "The very basic text editor on unix systems. Sometimes it opens as a default, e.g. when for entering a git commit message. \n",
    "\n",
    "open `vi filename`\n",
    "\n",
    "exit `:q` or `:q!` when you want to overwrite changes. short tutorial: https://www.guru99.com/the-vi-editor.html#5"
   ]
  },
  {
   "cell_type": "markdown",
   "metadata": {
    "slideshow": {
     "slide_type": "slide"
    }
   },
   "source": [
    "# Jupyter lab \n",
    "https://blog.jupyter.org/jupyterlab-is-ready-for-users-5a6f039b8906\n"
   ]
  }
 ],
 "metadata": {
  "celltoolbar": "Slideshow",
  "kernelspec": {
   "display_name": "Python (teaching)",
   "language": "python",
   "name": "teaching"
  },
  "language_info": {
   "codemirror_mode": {
    "name": "ipython",
    "version": 3
   },
   "file_extension": ".py",
   "mimetype": "text/x-python",
   "name": "python",
   "nbconvert_exporter": "python",
   "pygments_lexer": "ipython3",
   "version": "3.7.0"
  }
 },
 "nbformat": 4,
 "nbformat_minor": 2
}
