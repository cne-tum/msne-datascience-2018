{
 "cells": [
  {
   "cell_type": "markdown",
   "metadata": {},
   "source": [
    "# Helpers"
   ]
  },
  {
   "cell_type": "markdown",
   "metadata": {},
   "source": [
    "This notebook provides functions for the exercise notebook. It is not necessary to read through."
   ]
  },
  {
   "cell_type": "code",
   "execution_count": null,
   "metadata": {
    "collapsed": true
   },
   "outputs": [],
   "source": [
    "import matplotlib.pyplot as plt\n",
    "import numpy.random as nr\n",
    "\n",
    "from numpy import pi as PI, cos, sin\n",
    "\n",
    "%matplotlib inline"
   ]
  },
  {
   "cell_type": "markdown",
   "metadata": {},
   "source": [
    "## Simple toy model"
   ]
  },
  {
   "cell_type": "code",
   "execution_count": null,
   "metadata": {
    "collapsed": true
   },
   "outputs": [],
   "source": [
    "binsize = 0.001  # seconds\n",
    "\n",
    "def link(z):\n",
    "    return np.exp(z)\n",
    "\n",
    "def toyModel(X, theta):\n",
    "    # compute the natural rate, the firing rate and the firing probability\n",
    "    z = np.dot(theta, X)    # natural rate (a.u.)\n",
    "    r = link(z) / binsize   # firing rate (Hz)\n",
    "    p = r * binsize         # instantaneous firing rate\n",
    "\n",
    "    y = np.random.poisson(p)  # spikes\n",
    "    return y, p\n"
   ]
  },
  {
   "cell_type": "code",
   "execution_count": null,
   "metadata": {
    "collapsed": true
   },
   "outputs": [],
   "source": [
    "from IPython.display import display, Markdown, Latex\n",
    "\n",
    "def toygrad():\n",
    "    return display(Markdown(r'$\\begin{align} \\frac{\\partial}{\\partial \\theta} \\log \\mathcal{L} &= \\sum_{k=1}^K \\sum_{t=1}^T  \\bigg( y_{kt} - \\frac{\\mathrm{e}^{z_{kt}}}{1 + \\mathrm{e}^{z_{kt}}} \\bigg) \\mathbf{x}_{kt} = \\mathbf{r}^\\top \\mathbf{X},  \\end{align}$ for residual error $\\mathbf{r}_{kT+t} = y_{kt} - \\frac{1}{1 + \\mathrm{e}^{-z_{kt}}}$ and design matrix with rows $\\mathbf{X}_{[kT+t,\\dot{}]} = \\mathbf{x}_{kt}$. '))\n",
    "\n",
    "def prgrad():\n",
    "    return display(Markdown(r'''$\\begin{align} \\frac{\\partial}{\\partial \\theta} \\log p(\\theta)  &= - \\left[0,\\ \\beta^\\top \\Sigma_\\theta^{-1}, \\ \\psi ^\\top \\Sigma_\\psi^{-1}\\right]^\\top + const. \\end{align}$ \n",
    "    \n",
    "Note: we can also stick to $\\theta$, not breaking it up into $b$, $\\beta, \\psi$, if we define $P_\\theta = \\Sigma_\\theta^{-1}$ as \n",
    "$\\mathbf{P}_\\theta = \\begin{pmatrix}    \n",
    "                \\mathbf{0} & \\mathbf{0} & \\mathbf{0}\n",
    "                \\\\            \n",
    "                \\mathbf{0} & \\boldsymbol{\\Sigma_\\phi}^{-1} & \\mathbf{0}\n",
    "                \\\\\n",
    "                \\mathbf{0} & \\mathbf{0} & \\boldsymbol{\\Sigma_\\psi}^{-1}\n",
    "              \\end{pmatrix}$.              \n",
    "Note the zero precision for bias $b$, for which we did not assume a prior. Then,\n",
    "\n",
    "$ \\frac{\\partial}{\\partial \\theta} \\log p(\\theta)  = - \\theta^\\top P_\\theta + const. $'''))\n",
    "\n",
    "def toyll():\n",
    "    return display(Markdown(r'''```python\n",
    "def ll(theta):\n",
    "    z = np.dot(theta, X)\n",
    "    return np.sum( y * z - link(z) )```'''))\n",
    "\n",
    "def toydll():\n",
    "    return display(Markdown(r'''```python\n",
    "def dll(theta):\n",
    "    z = np.dot(theta, X)\n",
    "    r = y - link(z)\n",
    "    return np.dot(X, r)```'''))\n",
    "\n",
    "def toymap():\n",
    "    return display(Markdown(r'''```python\n",
    "def po(theta):\n",
    "    return ll(theta) + pr(theta)\n",
    "\n",
    "def pr(theta):\n",
    "    beta, psi = theta[1:delta+1], theta[delta+1:]\n",
    "    lpr  = - .5 * (  np.dot(np.dot(beta,P_beta), beta) \n",
    "                   + np.dot(np.dot(psi, P_psi ), psi) )        \n",
    "    return lpr```'''))\n",
    "\n",
    "def toydmap():\n",
    "    return display(Markdown(r'''```python\n",
    "def dpo(theta):\n",
    "    return dll(theta) + dpr(theta)\n",
    "\n",
    "def dpr(theta):\n",
    "    beta, psi = theta[1:delta+1], theta[delta+1:]\n",
    "    return - np.hstack((0., np.dot(beta, P_beta), np.dot(psi, P_psi))) # leading zero for d/db```'''))\n",
    "\n",
    "def toydme():\n",
    "    return display(Markdown(r'''```python\n",
    "def extendedDesignMatrix(y): \n",
    "    nbins = y.shape[0]\n",
    "    t = np.arange(nbins) * binsize  # time axis\n",
    "\n",
    "    X = np.zeros((1 + delta + tau, nbins))\n",
    "\n",
    "    X[0,:] = 1.       # bias\n",
    "    if delta > 0:\n",
    "        X[1, :] = U   # instantaneous input\n",
    "    for i in range(1,delta):\n",
    "        X[i+1, i+1:] = U[:-(i+1)]\n",
    "\n",
    "    for i in range(tau):\n",
    "        X[delta+i+1,i+1:] = y[:-(i+1)]        \n",
    "\n",
    "    return X```'''))"
   ]
  },
  {
   "cell_type": "markdown",
   "metadata": {},
   "source": [
    "## Dataset for inference with extended model"
   ]
  },
  {
   "cell_type": "code",
   "execution_count": null,
   "metadata": {
    "collapsed": true
   },
   "outputs": [],
   "source": [
    "def createDataset(U, T, K, theta, delta):\n",
    "    b, beta, psi = theta[0], theta[1:delta+1], theta[delta+1:]\n",
    "    tau = len(psi)\n",
    "    \n",
    "    nbins = T*K\n",
    "    X = toyDesignMatrix(U=U, T=T, K=K)\n",
    "    z = np.dot(np.hstack((b, beta)), X)\n",
    "\n",
    "    y = np.zeros(T*K, dtype=np.int64)                \n",
    "    eps = np.random.uniform(size=z.shape)\n",
    "    psi = psi[::-1]\n",
    "    for k in range(K):\n",
    "        for t in range(1,tau):        \n",
    "            idx = k*T+t\n",
    "            n = np.min((tau, t))\n",
    "            h = y[idx-n : idx] \n",
    "            y[idx] = np.random.poisson( link(z[idx] + np.inner(h, psi[-n:])) )\n",
    "        for t in range(tau,T):        \n",
    "            idx = k*T+t\n",
    "            h = y[idx-tau : idx] \n",
    "            y[idx] = np.random.poisson( link(z[idx] + np.inner(h, psi)) )\n",
    "    \n",
    "    return y    "
   ]
  }
 ],
 "metadata": {
  "anaconda-cloud": {},
  "kernelspec": {
   "display_name": "Python 3",
   "language": "python",
   "name": "python3"
  },
  "language_info": {
   "codemirror_mode": {
    "name": "ipython",
    "version": 3
   },
   "file_extension": ".py",
   "mimetype": "text/x-python",
   "name": "python",
   "nbconvert_exporter": "python",
   "pygments_lexer": "ipython3",
   "version": "3.5.1"
  }
 },
 "nbformat": 4,
 "nbformat_minor": 2
}
