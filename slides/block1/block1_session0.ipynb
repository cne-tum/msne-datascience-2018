{
 "cells": [
  {
   "cell_type": "code",
   "execution_count": 1,
   "metadata": {
    "slideshow": {
     "slide_type": "skip"
    }
   },
   "outputs": [
    {
     "data": {
      "text/plain": [
       "{'theme': 'serif', 'transition': 'zoom', 'start_slideshow_at': 'selected'}"
      ]
     },
     "execution_count": 1,
     "metadata": {},
     "output_type": "execute_result"
    }
   ],
   "source": [
    "from traitlets.config.manager import BaseJSONConfigManager\n",
    "from pathlib import Path\n",
    "path = Path.home() / \".jupyter\" / \"nbconfig\"\n",
    "cm = BaseJSONConfigManager(config_dir=str(path))\n",
    "cm.update(\"livereveal\", {\n",
    "              \"theme\": \"serif\",\n",
    "              \"transition\": \"zoom\",\n",
    "              \"start_slideshow_at\": \"selected\",\n",
    "})"
   ]
  },
  {
   "cell_type": "markdown",
   "metadata": {
    "slideshow": {
     "slide_type": "slide"
    }
   },
   "source": [
    "## Fundamentals of Computer Science for Computational Neuroengineering"
   ]
  },
  {
   "cell_type": "markdown",
   "metadata": {
    "slideshow": {
     "slide_type": "slide"
    }
   },
   "source": [
    "## What this course is about"
   ]
  },
  {
   "cell_type": "markdown",
   "metadata": {
    "slideshow": {
     "slide_type": "subslide"
    }
   },
   "source": [
    "## Basics of python"
   ]
  },
  {
   "cell_type": "markdown",
   "metadata": {
    "slideshow": {
     "slide_type": "fragment"
    }
   },
   "source": [
    "- working with the terminal\n",
    "- python syntax and programming concepts \n",
    "- jupyter notebook"
   ]
  },
  {
   "cell_type": "markdown",
   "metadata": {
    "slideshow": {
     "slide_type": "subslide"
    }
   },
   "source": [
    "## Data analysis and visualization"
   ]
  },
  {
   "cell_type": "markdown",
   "metadata": {
    "slideshow": {
     "slide_type": "fragment"
    }
   },
   "source": [
    "- **numpy** for data analysis, **matplotlib** for visualization \n",
    "- more advanced data analysis and visualization with **pandas** and **seaborn**"
   ]
  },
  {
   "cell_type": "markdown",
   "metadata": {
    "slideshow": {
     "slide_type": "subslide"
    }
   },
   "source": [
    "## Project management"
   ]
  },
  {
   "cell_type": "markdown",
   "metadata": {
    "slideshow": {
     "slide_type": "fragment"
    }
   },
   "source": [
    "- version control with git \n",
    "- working in teams with GitHub"
   ]
  },
  {
   "cell_type": "markdown",
   "metadata": {
    "slideshow": {
     "slide_type": "subslide"
    }
   },
   "source": [
    "## Machine learning"
   ]
  },
  {
   "cell_type": "markdown",
   "metadata": {
    "slideshow": {
     "slide_type": "fragment"
    }
   },
   "source": [
    "- overview of machine learning algorithms  \n",
    "- how to train and to apply algorimths using **scikit learn**"
   ]
  },
  {
   "cell_type": "markdown",
   "metadata": {
    "slideshow": {
     "slide_type": "subslide"
    }
   },
   "source": [
    "## Programming projects "
   ]
  },
  {
   "cell_type": "markdown",
   "metadata": {
    "slideshow": {
     "slide_type": "fragment"
    }
   },
   "source": [
    "- machine learning projects\n",
    "- computational neuroscience projects \n",
    "- your projects"
   ]
  },
  {
   "cell_type": "markdown",
   "metadata": {
    "slideshow": {
     "slide_type": "slide"
    }
   },
   "source": [
    "## Why python? "
   ]
  },
  {
   "cell_type": "markdown",
   "metadata": {
    "slideshow": {
     "slide_type": "subslide"
    }
   },
   "source": [
    "- open source \n",
    "- large active community\n",
    "- widely used in machine learning, computational neuroscience \n",
    "- lots of packages"
   ]
  },
  {
   "cell_type": "markdown",
   "metadata": {
    "slideshow": {
     "slide_type": "subslide"
    }
   },
   "source": [
    "> \"Python is the second best tool for everything\""
   ]
  },
  {
   "cell_type": "markdown",
   "metadata": {
    "slideshow": {
     "slide_type": "subslide"
    }
   },
   "source": [
    "<center>\n",
    "\n",
    "![image](img/theeconomist_python.png)\n",
    "</center>\n",
    "<sub>\n",
    "image: economist.com\n",
    "</sub>"
   ]
  },
  {
   "cell_type": "markdown",
   "metadata": {
    "slideshow": {
     "slide_type": "slide"
    }
   },
   "source": [
    "## Style of the course"
   ]
  },
  {
   "cell_type": "markdown",
   "metadata": {
    "slideshow": {
     "slide_type": "subslide"
    }
   },
   "source": [
    "- short lectures \n",
    "- supervised tutorials and exercises\n",
    "- interactive instead of classroom teaching style"
   ]
  },
  {
   "cell_type": "markdown",
   "metadata": {
    "slideshow": {
     "slide_type": "subslide"
    }
   },
   "source": [
    "### Purpose \n",
    "- prepare you for learning programming in the master program\n",
    "- not about the grade, but about you learning as much as possible\n",
    "- lots of material will be online"
   ]
  },
  {
   "cell_type": "markdown",
   "metadata": {
    "slideshow": {
     "slide_type": "subslide"
    }
   },
   "source": [
    "### Evaluation \n",
    "- project presentation \n",
    "- short oral exam after the course (in December)"
   ]
  },
  {
   "cell_type": "markdown",
   "metadata": {
    "slideshow": {
     "slide_type": "slide"
    }
   },
   "source": [
    "## Schedule"
   ]
  },
  {
   "cell_type": "markdown",
   "metadata": {
    "slideshow": {
     "slide_type": "subslide"
    }
   },
   "source": [
    "#### 4 blocks, 3 days each \n",
    "\n",
    "- first two blocks: lectures, guided tutorials \n",
    "- last two blocks: short lectures, project time with supervision"
   ]
  },
  {
   "cell_type": "markdown",
   "metadata": {
    "slideshow": {
     "slide_type": "fragment"
    }
   },
   "source": [
    "#### Where\n",
    "- room: Karlstr. 45, 5th floor"
   ]
  },
  {
   "cell_type": "markdown",
   "metadata": {
    "slideshow": {
     "slide_type": "fragment"
    }
   },
   "source": [
    "#### When\n",
    "- block 1: October 25 - 27 \n",
    "- **November 1 - 3, no lecture**\n",
    "- block 2: November 8 - 10\n",
    "- block 3: November 15 - 17 \n",
    "- block 4: November 22 - 24\n",
    "- for example: Thu 1 - 5pm, Fri 9am - 12pm, 1 - 4pm, Sat 10 - 1pm"
   ]
  },
  {
   "cell_type": "markdown",
   "metadata": {
    "slideshow": {
     "slide_type": "slide"
    }
   },
   "source": [
    "## Projects\n",
    "### Machine learning\n",
    "### Computational neuroscience"
   ]
  },
  {
   "cell_type": "markdown",
   "metadata": {
    "slideshow": {
     "slide_type": "slide"
    }
   },
   "source": [
    "## Machine learning projects"
   ]
  },
  {
   "cell_type": "markdown",
   "metadata": {
    "slideshow": {
     "slide_type": "subslide"
    }
   },
   "source": [
    "### Classify hand written digits (MNIST data set)\n",
    "<center>\n",
    "\n",
    "![image](img/wikipedia_mnist.png)\n",
    "</center>\n",
    "<sup>\n",
    "image: wikipedia.org\n",
    "</sup>"
   ]
  },
  {
   "cell_type": "markdown",
   "metadata": {
    "slideshow": {
     "slide_type": "skip"
    }
   },
   "source": [
    "### build a multilayer perceptron and your own backpropagation algorithm\n",
    "<center>\n",
    "\n",
    "![image](img/wikipedia_perceptron.jpeg)\n",
    "</center>\n",
    "<sub>\n",
    "image: wikipedia.org\n",
    "</sub>"
   ]
  },
  {
   "cell_type": "markdown",
   "metadata": {
    "slideshow": {
     "slide_type": "subslide"
    }
   },
   "source": [
    "### Learn PyTorch: \n",
    "- on MNIST \n",
    "- fashion clothes data set \n",
    "- object recognition data set"
   ]
  },
  {
   "cell_type": "markdown",
   "metadata": {
    "slideshow": {
     "slide_type": "subslide"
    }
   },
   "source": [
    "### Participate in Kaggle competitions\n",
    "- NYC taxi trip duration estimation\n",
    "- leaf classification"
   ]
  },
  {
   "cell_type": "markdown",
   "metadata": {
    "slideshow": {
     "slide_type": "slide"
    }
   },
   "source": [
    "## Computational Neuroscience Projects"
   ]
  },
  {
   "cell_type": "markdown",
   "metadata": {
    "slideshow": {
     "slide_type": "subslide"
    }
   },
   "source": [
    "### Visual Percetion \n",
    "<center>\n",
    "\n",
    "![image](img/theindependent_monroeeinstein.jpg)\n",
    "</center>\n",
    "<sub>\n",
    "image: independent.co.uk\n",
    "</sub>"
   ]
  },
  {
   "cell_type": "markdown",
   "metadata": {
    "slideshow": {
     "slide_type": "subslide"
    }
   },
   "source": [
    "### Slow feature analysis \n",
    "<center>\n",
    "\n",
    "![image](img/scholarpedia_sfa.jpg)\n",
    "</center>\n",
    "<sub>\n",
    "image: scholarpedia.org\n",
    "</sub>\n"
   ]
  },
  {
   "cell_type": "markdown",
   "metadata": {
    "slideshow": {
     "slide_type": "subslide"
    }
   },
   "source": [
    "### Saliency\n",
    "<center>\n",
    "\n",
    "![image](img/eaiblog_saliencymap.jpg)\n",
    "</center>\n",
    "<sub>\n",
    "image: blog.eai.eu\n",
    "</sub>"
   ]
  },
  {
   "cell_type": "markdown",
   "metadata": {
    "slideshow": {
     "slide_type": "subslide"
    }
   },
   "source": [
    "### Perceptual Bistability\n",
    "<center>\n",
    "\n",
    "![image](img/backyardbrain_bistability.jpg)\n",
    "</center>\n",
    "<sub>\n",
    "image: backyardbains.com\n",
    "</sub>"
   ]
  },
  {
   "cell_type": "markdown",
   "metadata": {
    "slideshow": {
     "slide_type": "slide"
    }
   },
   "source": [
    "### Course material: \n",
    "https://github.com/cne-tum/msne-datascience-2018\n",
    "\n",
    "### Questions: \n",
    "jan.boelts@tum.de\n",
    "\n",
    "m.bashiri@tum.de"
   ]
  },
  {
   "cell_type": "markdown",
   "metadata": {
    "slideshow": {
     "slide_type": "slide"
    }
   },
   "source": [
    "## Thank you for your attention!"
   ]
  }
 ],
 "metadata": {
  "celltoolbar": "Slideshow",
  "kernelspec": {
   "display_name": "Python 3",
   "language": "python",
   "name": "python3"
  },
  "language_info": {
   "codemirror_mode": {
    "name": "ipython",
    "version": 3
   },
   "file_extension": ".py",
   "mimetype": "text/x-python",
   "name": "python",
   "nbconvert_exporter": "python",
   "pygments_lexer": "ipython3",
   "version": "3.7.0"
  }
 },
 "nbformat": 4,
 "nbformat_minor": 2
}
