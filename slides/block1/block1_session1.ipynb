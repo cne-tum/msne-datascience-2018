{
 "cells": [
  {
   "cell_type": "markdown",
   "metadata": {},
   "source": [
    "# Session 1: Terminal, Python Installation, Jupyter"
   ]
  },
  {
   "cell_type": "markdown",
   "metadata": {},
   "source": [
    "Disclaimer: this is just a quick summary of the lectures and tutorials of this session. Here you find short instructions for exercises and links to additional tutorials. "
   ]
  },
  {
   "cell_type": "markdown",
   "metadata": {},
   "source": [
    "## Goals \n",
    "- have python and anaconda installed \n",
    "- navigate in the terminal, install packages, know different editors, run scripts \n",
    "- work with jupyter notebook / lab, run simple arithmetic operations"
   ]
  },
  {
   "cell_type": "markdown",
   "metadata": {},
   "source": [
    "## Command line\n",
    "- open the terminal, explain the purpose, show some commands, \n",
    "- google for command line tutorial\n",
    "- get a codeacademy account: codeacademy.com "
   ]
  },
  {
   "cell_type": "markdown",
   "metadata": {},
   "source": [
    "### Exercise\n",
    "- https://www.codecademy.com/learn/learn-the-command-line\n",
    "\n",
    "1) Do the navigation and the manipulation exercises\n",
    "2) Then, on your laptop, using the command line, create a new directory for the course \n",
    "3) Using the command line, 'cd' into that directory and download the course material by pasting \n",
    "    \n",
    "    git clone https://github.com/cne-tum/msne-datascience-2018.git"
   ]
  },
  {
   "cell_type": "markdown",
   "metadata": {},
   "source": [
    "## Anaconda\n",
    "- everyone download and install anaconda if not done already \n",
    "- http://anaconda.org/"
   ]
  },
  {
   "cell_type": "markdown",
   "metadata": {},
   "source": [
    "## Intro to Python \n",
    "https://en.wikipedia.org/wiki/Python_(programming_language)"
   ]
  },
  {
   "cell_type": "markdown",
   "metadata": {},
   "source": [
    "### Exercise 1\n",
    "- start python in the terminal, exit (exit()), start again\n",
    "- import time package \n",
    "- get current time in sec, time.time()\n",
    "- find out w.r.t what data this time is counted. "
   ]
  },
  {
   "cell_type": "markdown",
   "metadata": {},
   "source": [
    "### Exercise 2\n",
    "- create a file with .py ending\n",
    "- open the file in the vi editor, or atom, or any other text editor\n",
    "- https://atom.io/\n",
    "- write a hello world program using the print('') function\n",
    "- execute the program: python filename.py"
   ]
  },
  {
   "cell_type": "markdown",
   "metadata": {},
   "source": [
    "### Exercise 3\n",
    "- https://www.practicepython.org/exercise/2014/01/29/01-character-input.html"
   ]
  },
  {
   "cell_type": "markdown",
   "metadata": {},
   "source": [
    "## Python packages \n",
    "You can use anaconda to install python packages. \n",
    "\n",
    "### Exercise\n",
    "Use the 'conda install packagename' command to install the following packages \n",
    "- jupyterlab, numpy, scipy, matplotlib, pandas, seaborn\n",
    "- for help, check out: https://conda.io/docs/user-guide/getting-started.html#managing-packages"
   ]
  },
  {
   "cell_type": "markdown",
   "metadata": {},
   "source": [
    "## Jupyter notebook and jupyter lab \n",
    "Jupyter notebook is an even more interactive python environment that runs in the browser: https://jupyter-notebook.readthedocs.io/en/stable/notebook.html\n",
    "\n",
    "Jupyter lab combines all of the topics of today into one environment in the browser: command line, python console, jupyter notebook: https://jupyterlab.readthedocs.io/en/latest/"
   ]
  },
  {
   "cell_type": "markdown",
   "metadata": {},
   "source": [
    "## Tutorial Links\n",
    "- https://www.codecademy.com/learn/learn-the-command-line\n",
    "- https://ipython.readthedocs.io/en/stable/interactive/index.html\n",
    "- https://www.practicepython.org/exercise/2014/01/29/01-character-input.html"
   ]
  },
  {
   "cell_type": "markdown",
   "metadata": {},
   "source": [
    "## Goals \n",
    "After reading through the material and following the exercises you should be familiar with the following: \n",
    "\n",
    "- navigate in the terminal, install packages, know different editors, run scripts \n",
    "- have python and anaconda installed\n",
    "- work with jupyter notebook / lab, run simple arithmetic operations\n"
   ]
  }
 ],
 "metadata": {
  "kernelspec": {
   "display_name": "Python 3",
   "language": "python",
   "name": "python3"
  },
  "language_info": {
   "codemirror_mode": {
    "name": "ipython",
    "version": 3
   },
   "file_extension": ".py",
   "mimetype": "text/x-python",
   "name": "python",
   "nbconvert_exporter": "python",
   "pygments_lexer": "ipython3",
   "version": "3.7.0"
  }
 },
 "nbformat": 4,
 "nbformat_minor": 2
}
